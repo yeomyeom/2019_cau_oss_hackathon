{
  "nbformat": 4,
  "nbformat_minor": 0,
  "metadata": {
    "colab": {
      "name": "hackathon_team06",
      "version": "0.3.2",
      "provenance": [],
      "collapsed_sections": [],
      "toc_visible": true,
      "include_colab_link": true
    },
    "kernelspec": {
      "name": "python3",
      "display_name": "Python 3"
    },
    "accelerator": "GPU"
  },
  "cells": [
    {
      "cell_type": "markdown",
      "metadata": {
        "id": "view-in-github",
        "colab_type": "text"
      },
      "source": [
        "<a href=\"https://colab.research.google.com/github/yeomyeom/2019_cau_oss_hackathon/blob/master/hackathon_team06.ipynb\" target=\"_parent\"><img src=\"https://colab.research.google.com/assets/colab-badge.svg\" alt=\"Open In Colab\"/></a>"
      ]
    },
    {
      "cell_type": "markdown",
      "metadata": {
        "id": "1AosAX9DXOlc",
        "colab_type": "text"
      },
      "source": [
        "# **0. 해커톤 진행 주의사항**\n",
        "\n",
        "**1)  개발 관련 주의사항**\n",
        "*   [1. 초기 환경 설정]은 절대 수정하지 말 것\n",
        " *  단, 사용할 데이터셋에 따라 is_mnist만 수정\n",
        "*   모든 구현은 [2. 데이터 전처리]와 [3. 모델 생성]에서만 진행\n",
        " *  데이터 전처리 후 트레이닝, 데이터 셋은 x_train_after, x_test_after 변수명을 유지해주세요.\n",
        " *  데이터셋이 달라져도 같은 모델 구조를 유지하여야함.\n",
        "*   [4. 모델 저장]과 [5. 모델 로드 및 평가]에서 team_name 변수 변경 (예.`team_name = 'team01'`)\n",
        " *  트레이닝 중간에 checkpoint를 활용하여 모델을 저장한 경우에도 파일 이름 양식 통일 필수\n",
        " *  team_name을 제외한 다른 부분은 수정하지 말 것\n",
        "*   Colab 사용중 실수로 데이터 손실이 발생할 수도 있으니 중간 결과값을 github에 업로드 \n",
        " *    \"런타임->모든 런타임 재설정\"은 절대 누르지 말 것 (저장한 모델 데이터가 모두 삭제됨)\n",
        "*   효율적인 구현 및 테스팅을 위해 GPU 가속 기능 활성화\n",
        " *    \"런타임 -> 런타임 유형변경 -> 하드웨어 가속기 -> GPU 설정\"\n",
        "*   주석을 최대한 자세히 작성\n",
        "*   Keras API 관련하여 [Keras Documentation](https://keras.io/) 참조\n",
        "\n",
        "**2) 제출 관련 주의사항**\n",
        "*  제출물\n",
        " *  소스코드 (hackathon_teamXX.ipynb)\n",
        " *  모델 구조 파일 (model_structure_teamXX.json)\n",
        " *  모델 weight 파일 (model_weight_teamXX.h5)\n",
        " *  컴파일된 모델 파일 (model_entire_teamXX.h5)\n",
        "* 제출 기한: **오후 6시**\n",
        "* 제출 방법: [GitHub README](https://github.com/cauosshackathonta/2019_cau_oss_hackathon/) 참조\n",
        "\n",
        " \n",
        "**3) 평가 관련 주의사항**\n",
        "*  모델 성능 = 테스트 데이터 셋 분류 정확도\n",
        " *  model.evaluate(x_test, y_test)\n",
        "*  제출된 모델들의 테스트 데이터 셋 분류 정확도를 기준으로 수상작 결정\n",
        "*  수상 후보들에 대해서는 소스코드를 기반으로 모델 재검증 \n",
        " \n",
        "**4) 수상 실격 사유**\n",
        "*  유사한 소스코드 or 알고리즘이 적발될 경우\n",
        "*  소스코드와 제출된 모델이 상이한 경우\n",
        "*  두 개의 데이터셋에 대해 다른 모델 구조를 사용한 경우\n",
        "*  개발 관련 주의사항을 지키지 않은 경우\n",
        " *  예: [초기 환경 설정]을 수정한 경우\n",
        "*  데이터 셋을 변조한 경우\n",
        " *  예. 테스트 데이터 셋을 트레이닝 데이터 셋에 포함하여 모델 생성 \n",
        "*  주석이 소스코드와 맞지 않거나 미비할 경우\n",
        "\n",
        "\n",
        "\n",
        "\n"
      ]
    },
    {
      "cell_type": "markdown",
      "metadata": {
        "id": "67lwEXhUqys1",
        "colab_type": "text"
      },
      "source": [
        "# **1. 초기 환경 설정**\n",
        "\n"
      ]
    },
    {
      "cell_type": "code",
      "metadata": {
        "id": "Ms5PBBJ1qSC6",
        "colab_type": "code",
        "colab": {}
      },
      "source": [
        "from __future__ import absolute_import, division, print_function, unicode_literals, unicode_literals\n",
        "\n",
        "# tensorflow와 tf.keras 및 관련 라이브러리 임포트\n",
        "import tensorflow as tf\n",
        "from tensorflow import keras\n",
        "from keras.utils import np_utils\n",
        "\n",
        "import numpy as np\n",
        "\n",
        "is_mnist = False;\n",
        "\n",
        "# 데이터셋 로드\n",
        "# x_train, y_train: 트레이닝 데이터 및 레이블\n",
        "# x_test, y_test: 테스트 데이터 및 레이블\n",
        "if is_mnist:\n",
        "  data_type = 'mnist'\n",
        "  (x_train, y_train), (x_test, y_test) = keras.datasets.fashion_mnist.load_data() # fashion MNIST 데이터셋인 경우,\n",
        "else:\n",
        "  data_type = 'cifar10'\n",
        "  (x_train, y_train), (x_test, y_test) = keras.datasets.cifar10.load_data() # cifar10 데이터셋인 경우,\n",
        "\n",
        "\n",
        "# 분류를 위해 클래스 벡터를 바이너리 매트릭스로 변환\n",
        "y_train = np_utils.to_categorical(y_train)\n",
        "y_test = np_utils.to_categorical(y_test)\n",
        "\n",
        "# 총 클래스 개수\n",
        "num_classes = y_test.shape[1]\n",
        "\n",
        "# 인풋 데이터 타입\n",
        "input_shape = x_test.shape[1:]"
      ],
      "execution_count": 0,
      "outputs": []
    },
    {
      "cell_type": "markdown",
      "metadata": {
        "id": "p9c2KLDBIhNQ",
        "colab_type": "text"
      },
      "source": [
        "# **2. 데이터 전처리**\n"
      ]
    },
    {
      "cell_type": "code",
      "metadata": {
        "id": "zJNgjaHvIhSS",
        "colab_type": "code",
        "colab": {}
      },
      "source": [
        "# 데이터 전처리 (예: normalization)\n",
        "x_train_after = x_train / 255.0\n",
        "x_test_after = x_test / 255.0\n",
        "if is_mnist == True:\n",
        "  input_shape = (x_train.shape[1],x_train.shape[2],1)\n",
        "  x_train_after = np.reshape(x_train_after,(60000,28,28,1))\n",
        "  x_test_after = np.reshape(x_test_after,(10000,28,28,1)) "
      ],
      "execution_count": 0,
      "outputs": []
    },
    {
      "cell_type": "markdown",
      "metadata": {
        "id": "A-YjppJpXBO9",
        "colab_type": "text"
      },
      "source": [
        "# **3. 모델 생성**\n",
        "\n"
      ]
    },
    {
      "cell_type": "code",
      "metadata": {
        "id": "bgZ9n4V9kb5p",
        "colab_type": "code",
        "colab": {
          "base_uri": "https://localhost:8080/",
          "height": 484
        },
        "outputId": "276d7b1d-0529-4f2e-9ec1-fa8fe7f8e9a5"
      },
      "source": [
        "from keras import optimizers\n",
        "\n",
        "model = keras.Sequential()\n",
        "\n",
        "model.add(keras.layers.Conv2D(16, kernel_size=(3,3), strides=(1,1), padding='same', activation='relu', input_shape = input_shape))\n",
        "model.add(keras.layers.BatchNormalization())\n",
        "model.add(keras.layers.Conv2D(16, kernel_size=(3,3), strides=(1,1), padding='same', activation='relu'))\n",
        "model.add(keras.layers.BatchNormalization())\n",
        "model.add(keras.layers.MaxPooling2D(pool_size=(2, 2)))\n",
        "model.add(keras.layers.Dropout(0.2))\n",
        "\n",
        "model.add(keras.layers.Conv2D(32, kernel_size=(3,3), strides=(1,1), padding='same', activation='relu'))\n",
        "model.add(keras.layers.BatchNormalization())\n",
        "model.add(keras.layers.Conv2D(32, kernel_size=(3,3), strides=(1,1), padding='same', activation='relu'))\n",
        "model.add(keras.layers.BatchNormalization())\n",
        "model.add(keras.layers.MaxPooling2D(pool_size=(2, 2)))\n",
        "model.add(keras.layers.Dropout(0.3))\n",
        "\n",
        "model.add(keras.layers.Conv2D(64, kernel_size=(3,3), strides=(1,1), padding='same', activation='relu'))\n",
        "model.add(keras.layers.BatchNormalization())\n",
        "model.add(keras.layers.Conv2D(64, kernel_size=(3,3), strides=(1,1), padding='same', activation='relu'))\n",
        "model.add(keras.layers.BatchNormalization())\n",
        "model.add(keras.layers.MaxPooling2D(pool_size=(2, 2)))\n",
        "model.add(keras.layers.Dropout(0.4))\n",
        "\n",
        "model.add(keras.layers.Conv2D(128, kernel_size=(3,3), strides=(1,1), padding='same', activation='relu'))\n",
        "model.add(keras.layers.BatchNormalization())\n",
        "model.add(keras.layers.Conv2D(128, kernel_size=(3,3), strides=(1,1), padding='same', activation='relu'))\n",
        "model.add(keras.layers.BatchNormalization())\n",
        "model.add(keras.layers.MaxPooling2D(pool_size=(2, 2)))\n",
        "model.add(keras.layers.Dropout(0.5))\n",
        "\n",
        "model.add(keras.layers.Conv2D(256, kernel_size=(3,3), strides=(1,1), padding='same', activation='relu'))\n",
        "model.add(keras.layers.BatchNormalization())\n",
        "model.add(keras.layers.Conv2D(256, kernel_size=(3,3), strides=(1,1), padding='same', activation='relu'))\n",
        "model.add(keras.layers.BatchNormalization())\n",
        "model.add(keras.layers.MaxPooling2D(pool_size=(2, 2)))\n",
        "model.add(keras.layers.Dropout(0.5))\n",
        "\n",
        "model.add(keras.layers.Flatten())\n",
        "\n",
        "model.add(keras.layers.Dense(1500, activation='relu'))\n",
        "model.add(keras.layers.Dense(num_classes, activation='softmax'))\n",
        "\n",
        "# 모델 컴파일\n",
        "# optimizer: 모델을 업데이트 하는 방식\n",
        "# loss: 모델의 정확도를 판단하는 방식\n",
        "# metrics: 트레이닝 및 테스팅 성능 모니터링을 위한 평가지표\n",
        "#adam = optimizers.Adam(lr=0.001,beta_1=0.9,beta_2=0.999,epsilon=1e-8, decay=0.0, amsgrad=False)\n",
        "\n",
        "save_path = '/content/'\n",
        "team_name = 'team06'\n",
        "cd_checkpoint = keras.callbacks.ModelCheckpoint(filepath=save_path +  'model_entire_' + data_type + '_' + team_name + '.h5', monitor='val_acc', verbose=1, save_best_only=True, save_weight_only=True)\n",
        "\n",
        "model.compile(loss='mean_squared_error', optimizer='adam', metrics=['accuracy'])\n",
        "\n",
        "# 모델 트레이닝\n",
        "# batch_size: 전체 데이터셋 중 몇개씩 학습시킬 것인지\n",
        "# epoch: 학습에 전체 데이터셋이 총 몇번 이용될 것인지\n",
        "# shuffle: 학습전에 트레이닝 데이터셋을 랜덤하게 섞을 것인지\n",
        "# validation_data: 중간 성능 검증에 사용할 data set\n",
        "model.fit(x_train_after, y_train, batch_size = 100, epochs = 100, shuffle=True, validation_data=[x_test_after, y_test], callbacks=[cd_checkpoint])\n",
        "\n",
        "model = keras.models.load_model(save_path + 'model_entire_' + data_type + '_' + team_name + '.h5')\n",
        "print('model recall')\n",
        "model.save_weights(save_path + 'model_weight_' + data_type + '_' + team_name + '.h5')\n",
        "print('weight save')\n",
        "model_json = model.to_json()\n",
        "with open(save_path + 'model_structure_' + data_type + '_' + team_name + '.json', 'w') as json_file : \n",
        "    json_file.write(model_json)\n",
        "print('json save')"
      ],
      "execution_count": 0,
      "outputs": [
        {
          "output_type": "stream",
          "text": [
            "49800/50000 [============================>.] - ETA: 0s - loss: 0.0327 - acc: 0.7688\n",
            "Epoch 00014: val_acc improved from 0.77570 to 0.77840, saving model to /content/model_entire_cifar10_team06.h5\n",
            "50000/50000 [==============================] - 9s 176us/sample - loss: 0.0328 - acc: 0.7687 - val_loss: 0.0319 - val_acc: 0.7784\n",
            "Epoch 15/100\n",
            "49900/50000 [============================>.] - ETA: 0s - loss: 0.0320 - acc: 0.7735\n",
            "Epoch 00015: val_acc did not improve from 0.77840\n",
            "50000/50000 [==============================] - 9s 172us/sample - loss: 0.0320 - acc: 0.7734 - val_loss: 0.0360 - val_acc: 0.7455\n",
            "Epoch 16/100\n",
            "49900/50000 [============================>.] - ETA: 0s - loss: 0.0312 - acc: 0.7794\n",
            "Epoch 00016: val_acc improved from 0.77840 to 0.78400, saving model to /content/model_entire_cifar10_team06.h5\n",
            "50000/50000 [==============================] - 9s 175us/sample - loss: 0.0312 - acc: 0.7794 - val_loss: 0.0305 - val_acc: 0.7840\n",
            "Epoch 17/100\n",
            "49700/50000 [============================>.] - ETA: 0s - loss: 0.0307 - acc: 0.7847\n",
            "Epoch 00017: val_acc improved from 0.78400 to 0.78490, saving model to /content/model_entire_cifar10_team06.h5\n",
            "50000/50000 [==============================] - 9s 175us/sample - loss: 0.0307 - acc: 0.7848 - val_loss: 0.0309 - val_acc: 0.7849\n",
            "Epoch 18/100\n",
            "49700/50000 [============================>.] - ETA: 0s - loss: 0.0303 - acc: 0.7861\n",
            "Epoch 00018: val_acc improved from 0.78490 to 0.79250, saving model to /content/model_entire_cifar10_team06.h5\n",
            "50000/50000 [==============================] - 9s 176us/sample - loss: 0.0303 - acc: 0.7861 - val_loss: 0.0300 - val_acc: 0.7925\n",
            "Epoch 19/100\n",
            "49700/50000 [============================>.] - ETA: 0s - loss: 0.0294 - acc: 0.7942\n",
            "Epoch 00019: val_acc improved from 0.79250 to 0.79310, saving model to /content/model_entire_cifar10_team06.h5\n",
            "50000/50000 [==============================] - 9s 176us/sample - loss: 0.0294 - acc: 0.7940 - val_loss: 0.0294 - val_acc: 0.7931\n",
            "Epoch 20/100\n",
            "49800/50000 [============================>.] - ETA: 0s - loss: 0.0295 - acc: 0.7939\n",
            "Epoch 00020: val_acc improved from 0.79310 to 0.80860, saving model to /content/model_entire_cifar10_team06.h5\n",
            "50000/50000 [==============================] - 9s 175us/sample - loss: 0.0295 - acc: 0.7940 - val_loss: 0.0273 - val_acc: 0.8086\n",
            "Epoch 21/100\n",
            "49900/50000 [============================>.] - ETA: 0s - loss: 0.0284 - acc: 0.8012"
          ],
          "name": "stdout"
        }
      ]
    },
    {
      "cell_type": "code",
      "metadata": {
        "id": "DZP4eRmRqgRp",
        "colab_type": "code",
        "colab": {
          "base_uri": "https://localhost:8080/",
          "height": 56
        },
        "outputId": "4b91a7f9-dbae-44bf-e9a5-a4d2266a7cc8"
      },
      "source": [
        "'''\n",
        "# 순차 모델 생성 (가장 기본구조)\n",
        "model = keras.Sequential()\n",
        "\n",
        "# Flatten layer: 28 x 28 x 1 image를 784개의 1D vector input으로 변환\n",
        "model.add(keras.layers.Flatten(input_shape=input_shape))\n",
        "\n",
        "# 1st hidden layer: fully-connected layer\n",
        "# (# of inputs = 784, # of outputs = 512, actication fuction = relu)\n",
        "model.add(keras.layers.Dense(512, activation=tf.nn.relu))\n",
        "\n",
        "# 2nd hidden layer: fully-connected layer \n",
        "# (# of inputs = 512, # of outputs = 256, actication fuction = relu)\n",
        "model.add(keras.layers.Dense(256, activation=tf.nn.relu))\n",
        "\n",
        "# 3rd hidden layer: fully-connected layer \n",
        "# (# of inputs = 256, # of outputs = 64, actication fuction = relu)\n",
        "model.add(keras.layers.Dense(64, activation=tf.nn.relu))\n",
        "\n",
        "# 4rd hidden layer: fully-connected layer \n",
        "# (# of inputs = 64, # of outputs = 32, actication fuction = relu)\n",
        "model.add(keras.layers.Dense(32, activation=tf.nn.relu))\n",
        "\n",
        "# 5rd hidden layer: fully-connected layer \n",
        "# (# of inputs = 32, # of outputs = 16, actication fuction = relu)\n",
        "model.add(keras.layers.Dense(16, activation=tf.nn.relu))\n",
        "\n",
        "# Output layer: fully-connected layer \n",
        "# (# of inputs = 16, # of outputs = 10, actication fuction = softmax)\n",
        "model.add(keras.layers.Dense(num_classes, activation=tf.nn.softmax))\n",
        "\n",
        "# 모델 컴파일\n",
        "# optimizer: 모델을 업데이트 하는 방식\n",
        "# loss: 모델의 정확도를 판단하는 방식\n",
        "# metrics: 트레이닝 및 테스팅 성능 모니터링을 위한 평가지표\n",
        "model.compile(loss='categorical_crossentropy', optimizer='adam', metrics=['accuracy'])\n",
        "\n",
        "# 모델 트레이닝\n",
        "# batch_size: 전체 데이터셋 중 몇개씩 학습시킬 것인지\n",
        "# epoch: 학습에 전체 데이터셋이 총 몇번 이용될 것인지\n",
        "# shuffle: 학습전에 트레이닝 데이터셋을 랜덤하게 섞을 것인지\n",
        "# validation_data: 중간 성능 검증에 사용할 data set\n",
        "model.fit(x_train_after, y_train, batch_size = 128, epochs = 30, shuffle=True, validation_data=[x_test_after, y_test])\n",
        "'''"
      ],
      "execution_count": 55,
      "outputs": [
        {
          "output_type": "execute_result",
          "data": {
            "text/plain": [
              "\"\\n# 순차 모델 생성 (가장 기본구조)\\nmodel = keras.Sequential()\\n\\n# Flatten layer: 28 x 28 x 1 image를 784개의 1D vector input으로 변환\\nmodel.add(keras.layers.Flatten(input_shape=input_shape))\\n\\n# 1st hidden layer: fully-connected layer\\n# (# of inputs = 784, # of outputs = 512, actication fuction = relu)\\nmodel.add(keras.layers.Dense(512, activation=tf.nn.relu))\\n\\n# 2nd hidden layer: fully-connected layer \\n# (# of inputs = 512, # of outputs = 256, actication fuction = relu)\\nmodel.add(keras.layers.Dense(256, activation=tf.nn.relu))\\n\\n# 3rd hidden layer: fully-connected layer \\n# (# of inputs = 256, # of outputs = 64, actication fuction = relu)\\nmodel.add(keras.layers.Dense(64, activation=tf.nn.relu))\\n\\n# 4rd hidden layer: fully-connected layer \\n# (# of inputs = 64, # of outputs = 32, actication fuction = relu)\\nmodel.add(keras.layers.Dense(32, activation=tf.nn.relu))\\n\\n# 5rd hidden layer: fully-connected layer \\n# (# of inputs = 32, # of outputs = 16, actication fuction = relu)\\nmodel.add(keras.layers.Dense(16, activation=tf.nn.relu))\\n\\n# Output layer: fully-connected layer \\n# (# of inputs = 16, # of outputs = 10, actication fuction = softmax)\\nmodel.add(keras.layers.Dense(num_classes, activation=tf.nn.softmax))\\n\\n# 모델 컴파일\\n# optimizer: 모델을 업데이트 하는 방식\\n# loss: 모델의 정확도를 판단하는 방식\\n# metrics: 트레이닝 및 테스팅 성능 모니터링을 위한 평가지표\\nmodel.compile(loss='categorical_crossentropy', optimizer='adam', metrics=['accuracy'])\\n\\n# 모델 트레이닝\\n# batch_size: 전체 데이터셋 중 몇개씩 학습시킬 것인지\\n# epoch: 학습에 전체 데이터셋이 총 몇번 이용될 것인지\\n# shuffle: 학습전에 트레이닝 데이터셋을 랜덤하게 섞을 것인지\\n# validation_data: 중간 성능 검증에 사용할 data set\\nmodel.fit(x_train_after, y_train, batch_size = 128, epochs = 30, shuffle=True, validation_data=[x_test_after, y_test])\\n\""
            ]
          },
          "metadata": {
            "tags": []
          },
          "execution_count": 55
        }
      ]
    },
    {
      "cell_type": "markdown",
      "metadata": {
        "id": "GuPa7OQg1qKI",
        "colab_type": "text"
      },
      "source": [
        ""
      ]
    },
    {
      "cell_type": "markdown",
      "metadata": {
        "id": "QR9WUYXxqtfR",
        "colab_type": "text"
      },
      "source": [
        "# **4. 모델 저장**"
      ]
    },
    {
      "cell_type": "code",
      "metadata": {
        "id": "Wi9yznz4qvzK",
        "colab_type": "code",
        "colab": {
          "base_uri": "https://localhost:8080/",
          "height": 56
        },
        "outputId": "0c49ac40-d4e7-400e-e4ae-11b4078ecea6"
      },
      "source": [
        "\n",
        "save_path = '/content/'\n",
        "team_name = 'team06'\n",
        "\n",
        "# 모델의 weight 값만 저장합니다.\n",
        "model.save_weights(save_path + 'model_weight_' + data_type + '_' + team_name + '.h5')\n",
        "\n",
        "# 모델의 구조만을 저장합니다.\n",
        "model_json = model.to_json()\n",
        "with open(save_path + 'model_structure_' + data_type + '_' + team_name + '.json', 'w') as json_file : \n",
        "    json_file.write(model_json)\n",
        "\n",
        "# 트레이닝된 전체 모델을 저장합니다.\n",
        "model.save(save_path +  'model_entire_' + data_type + '_' + team_name + '.h5')\n"
      ],
      "execution_count": 56,
      "outputs": [
        {
          "output_type": "execute_result",
          "data": {
            "text/plain": [
              "\"\\nsave_path = '/content/'\\nteam_name = 'team06'\\n\\n# 모델의 weight 값만 저장합니다.\\nmodel.save_weights(save_path + 'model_weight_' + data_type + '_' + team_name + '.h5')\\n\\n# 모델의 구조만을 저장합니다.\\nmodel_json = model.to_json()\\nwith open(save_path + 'model_structure_' + data_type + '_' + team_name + '.json', 'w') as json_file : \\n    json_file.write(model_json)\\n\\n# 트레이닝된 전체 모델을 저장합니다.\\nmodel.save(save_path +  'model_entire_' + data_type + '_' + team_name + '.h5')\\n\""
            ]
          },
          "metadata": {
            "tags": []
          },
          "execution_count": 56
        }
      ]
    },
    {
      "cell_type": "markdown",
      "metadata": {
        "id": "1B2BoRDZ7cFl",
        "colab_type": "text"
      },
      "source": [
        "# **5. 모델 로드 및 평가**"
      ]
    },
    {
      "cell_type": "code",
      "metadata": {
        "id": "SDBwxVUx7knQ",
        "colab_type": "code",
        "colab": {
          "base_uri": "https://localhost:8080/",
          "height": 55
        },
        "outputId": "00cddeb0-9854-4e6d-e77f-2d660314db7c"
      },
      "source": [
        "save_path = '/content/'\n",
        "team_name = 'team06'\n",
        "\n",
        "model = keras.models.load_model(save_path + 'model_entire_' + data_type + '_' + team_name + '.h5')\n",
        "model.evaluate(x_test_after, y_test)"
      ],
      "execution_count": 57,
      "outputs": [
        {
          "output_type": "stream",
          "text": [
            "10000/10000 [==============================] - 2s 168us/sample - loss: 0.0094 - acc: 0.9401\n"
          ],
          "name": "stdout"
        },
        {
          "output_type": "execute_result",
          "data": {
            "text/plain": [
              "[0.009357329709937403, 0.9401]"
            ]
          },
          "metadata": {
            "tags": []
          },
          "execution_count": 57
        }
      ]
    },
    {
      "cell_type": "code",
      "metadata": {
        "id": "N-nN5QVwY-_G",
        "colab_type": "code",
        "colab": {}
      },
      "source": [
        ""
      ],
      "execution_count": 0,
      "outputs": []
    }
  ]
}